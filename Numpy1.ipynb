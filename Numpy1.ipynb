{
 "cells": [
  {
   "cell_type": "code",
   "execution_count": 2,
   "metadata": {},
   "outputs": [
    {
     "name": "stdout",
     "output_type": "stream",
     "text": [
      "[1 2 3 4]\n",
      "[0 1 2 3 4 5 6 7 8 9]\n"
     ]
    }
   ],
   "source": [
    "#creating arrays\n",
    "import numpy as np\n",
    "a = np.array([1,2,3,4])\n",
    "b = np.arange(10)\n",
    "print(a)\n",
    "print(b)"
   ]
  },
  {
   "cell_type": "code",
   "execution_count": 4,
   "metadata": {},
   "outputs": [
    {
     "name": "stdout",
     "output_type": "stream",
     "text": [
      "165 µs ± 567 ns per loop (mean ± std. dev. of 7 runs, 10000 loops each)\n",
      "\n",
      "1.19 µs ± 7.26 ns per loop (mean ± std. dev. of 7 runs, 1000000 loops each)\n"
     ]
    }
   ],
   "source": [
    "#to check efficiency of numpy\n",
    "import numpy as np\n",
    "a = range(1000)\n",
    "b = np.arange(1000)\n",
    "%timeit [i**2 for i in a]\n",
    "print()\n",
    "%timeit b**2\n"
   ]
  },
  {
   "cell_type": "code",
   "execution_count": 18,
   "metadata": {},
   "outputs": [
    {
     "name": "stdout",
     "output_type": "stream",
     "text": [
      "Using lists    [1 2 3 4] \n",
      "\n",
      "Using np.array    [0 1 2 3 4 5 6 7 8 9] \n",
      "\n",
      "Using arange  [ 0  2  4  6  8 10 12 14 16 18] \n",
      "\n",
      "Using linspace \n",
      " [0.  0.5 1.  1.5 2. ] \n",
      "\n"
     ]
    }
   ],
   "source": [
    "#How to create arrays using different method\n",
    "import numpy as np\n",
    "a = np.array([1,2,3,4])\n",
    "b = np.arange(10) #10 isn't included\n",
    "c = np.arange(0,20,2)  #(start, end(Exclusive, step size))\n",
    "d = np.linspace (0, 2, 5) #start, end (inclusive), number of points\n",
    "print(\"Using lists   \",a,\"\\n\")\n",
    "print(\"Using np.array   \",b,\"\\n\")\n",
    "print(\"Using arange \",c,\"\\n\")\n",
    "print(\"Using linspace \\n\",d,\"\\n\")"
   ]
  },
  {
   "cell_type": "code",
   "execution_count": 23,
   "metadata": {},
   "outputs": [
    {
     "name": "stdout",
     "output_type": "stream",
     "text": [
      "Dimensions of a-array    1\n",
      "Dimensions of b-array    2\n",
      "Dimensions of c-array    3\n"
     ]
    }
   ],
   "source": [
    "#dimension, shape and length\n",
    "a = np.array([1,2,3,4])\n",
    "b = np.array([[1,2,3],[4,5,6]])\n",
    "c = np.array([[[1,2],[3,4]],[[5,6],[7,8]]])\n",
    "print(\"Dimensions of a-array   \",a.ndim)\n",
    "print(\"Dimensions of b-array   \",b.ndim)\n",
    "print(\"Dimensions of c-array   \",c.ndim)\n",
    "print(\"Shape of   \",a.ndim)\n",
    "print(\"Dimensions of b-array   \",b.ndim)\n",
    "print(\"Dimensions of c-array   \",c.ndim)"
   ]
  },
  {
   "cell_type": "code",
   "execution_count": 31,
   "metadata": {},
   "outputs": [
    {
     "name": "stdout",
     "output_type": "stream",
     "text": [
      "Dimensions of a-array    1\n",
      "Dimensions of b-array    2\n",
      "Dimensions of c-array    3\n",
      "Shape of a-array  (4,)\n",
      "Shape of b-array  (2, 3)\n",
      "Shape of c-array  (2, 2, 2)\n",
      "length of a-array  4\n",
      "length of b-array  2\n",
      "length of c-array  2\n"
     ]
    }
   ],
   "source": [
    "#dimension, shape and length\n",
    "a = np.array([1,2,3,4])\n",
    "b = np.array([[1,2,3],[4,5,6]])\n",
    "c = np.array([[[1,2],[3,4]],[[5,6],[7,8]]])\n",
    "print(\"Dimensions of a-array   \",a.ndim)   \n",
    "print(\"Dimensions of b-array   \",b.ndim)   \n",
    "print(\"Dimensions of c-array   \",c.ndim)   \n",
    "print(\"Shape of a-array \",a.shape)\n",
    "print(\"Shape of b-array \",b.shape)   #it print out (row, column)\n",
    "print(\"Shape of c-array \",c.shape)   #it print out (row, column, height)\n",
    "print(\"length of a-array \",len(a)#it print out no of elements in case of 1-D\n",
    "print(\"length of b-array \",len(b))#it print out no of rows in case of 2-D\n",
    "print(\"length of c-array \",len(c))#it print out no of rows in case of 3-D"
   ]
  },
  {
   "cell_type": "code",
   "execution_count": 46,
   "metadata": {},
   "outputs": [
    {
     "name": "stdout",
     "output_type": "stream",
     "text": [
      "[[1. 1. 1.]\n",
      " [1. 1. 1.]]\n"
     ]
    }
   ],
   "source": [
    "#creating special arrays\n",
    "b = np.ones((2,3))\n",
    "print(b)\n",
    "\n"
   ]
  },
  {
   "cell_type": "code",
   "execution_count": 47,
   "metadata": {},
   "outputs": [
    {
     "name": "stdout",
     "output_type": "stream",
     "text": [
      "[[0. 0. 0.]\n",
      " [0. 0. 0.]]\n"
     ]
    }
   ],
   "source": [
    "d = np.zeros((2,3))\n",
    "print(d)\n"
   ]
  },
  {
   "cell_type": "code",
   "execution_count": 51,
   "metadata": {},
   "outputs": [
    {
     "name": "stdout",
     "output_type": "stream",
     "text": [
      "[1. 1. 1. 1.]\n",
      "\n",
      "[[1. 0. 0.]\n",
      " [0. 1. 0.]]\n"
     ]
    }
   ],
   "source": [
    "#identitiy array\n",
    "e = np.eye(4)\n",
    "d = np.eye(2,3)\n",
    "print(e)\n",
    "print()\n",
    "print(d)\n",
    "\n"
   ]
  },
  {
   "cell_type": "code",
   "execution_count": 53,
   "metadata": {},
   "outputs": [
    {
     "name": "stdout",
     "output_type": "stream",
     "text": [
      "[[1 0 0 0]\n",
      " [0 2 0 0]\n",
      " [0 0 3 0]\n",
      " [0 0 0 4]]\n",
      "\n",
      "[1 2 3 4]\n"
     ]
    }
   ],
   "source": [
    "#diagonal array\n",
    "f = np.diag([1,2,3,4])\n",
    "diag_elements = np.diag(f) #return the diagonal elmnts of the array\n",
    "print(f)\n",
    "print()\n",
    "print(diag_elements)"
   ]
  },
  {
   "cell_type": "code",
   "execution_count": 1,
   "metadata": {},
   "outputs": [
    {
     "name": "stdout",
     "output_type": "stream",
     "text": [
      "[0.15365479 0.36070813 0.42241824 0.96394653 0.43336546]\n",
      "\n",
      "[[0.96682424 0.13655995 0.11048386]\n",
      " [0.49773706 0.55793834 0.26091897]]\n"
     ]
    }
   ],
   "source": [
    "#Creating random numbers arrays\n",
    "import numpy as np\n",
    "a = np.random.rand(5)\n",
    "b = np.random.rand(2,3) #2D array of uniform distribution random numbers\n",
    "print(a)\n",
    "print()\n",
    "print(b)"
   ]
  },
  {
   "cell_type": "code",
   "execution_count": 2,
   "metadata": {},
   "outputs": [
    {
     "name": "stdout",
     "output_type": "stream",
     "text": [
      "[-0.00684324  0.06781663  1.40637006  1.50353703]\n",
      "\n",
      "[[ 0.19506548 -0.60402477  0.3272172 ]\n",
      " [-1.12816072 -1.38094106  1.19736387]\n",
      " [ 1.25029772  1.0402309  -1.3812634 ]]\n"
     ]
    }
   ],
   "source": [
    "c = np.random.randn(4)\n",
    "d = np.random.randn(3,3) #2D array of guassian random numbers\n",
    "print(c)\n",
    "print()\n",
    "print(d)"
   ]
  },
  {
   "cell_type": "code",
   "execution_count": 3,
   "metadata": {},
   "outputs": [
    {
     "data": {
      "text/plain": [
       "dtype('int32')"
      ]
     },
     "execution_count": 3,
     "metadata": {},
     "output_type": "execute_result"
    }
   ],
   "source": [
    "#data types\n",
    "a = np.arange(10)\n",
    "a.dtype"
   ]
  },
  {
   "cell_type": "code",
   "execution_count": 4,
   "metadata": {},
   "outputs": [
    {
     "data": {
      "text/plain": [
       "dtype('int64')"
      ]
     },
     "execution_count": 4,
     "metadata": {},
     "output_type": "execute_result"
    }
   ],
   "source": [
    "b = np.arange(10, dtype = 'int64')\n",
    "b.dtype"
   ]
  },
  {
   "cell_type": "code",
   "execution_count": 5,
   "metadata": {},
   "outputs": [
    {
     "name": "stdout",
     "output_type": "stream",
     "text": [
      "data type of c float64\n",
      "data type of d float64\n",
      "data type of e float64\n"
     ]
    }
   ],
   "source": [
    "c = np.arange(5, dtype = 'float64')\n",
    "d = np.zeros(5)\n",
    "e = np.zeros(4)\n",
    "print(\"data type of c\", c.dtype)\n",
    "print(\"data type of d\", d.dtype)\n",
    "print(\"data type of e\", e.dtype)\n",
    "\n"
   ]
  },
  {
   "cell_type": "code",
   "execution_count": 8,
   "metadata": {},
   "outputs": [
    {
     "data": {
      "text/plain": [
       "dtype('complex128')"
      ]
     },
     "execution_count": 8,
     "metadata": {},
     "output_type": "execute_result"
    }
   ],
   "source": [
    "f = np.array((2 + 3j, 6+7j, 9+4j))\n",
    "f.dtype"
   ]
  },
  {
   "cell_type": "code",
   "execution_count": 27,
   "metadata": {},
   "outputs": [
    {
     "data": {
      "text/plain": [
       "dtype('<U8')"
      ]
     },
     "execution_count": 27,
     "metadata": {},
     "output_type": "execute_result"
    }
   ],
   "source": [
    "strings = np.array(['Monday','Tue','Wedneday'])\n",
    "strings.dtype"
   ]
  },
  {
   "cell_type": "code",
   "execution_count": 23,
   "metadata": {},
   "outputs": [
    {
     "data": {
      "text/plain": [
       "dtype('bool')"
      ]
     },
     "execution_count": 23,
     "metadata": {},
     "output_type": "execute_result"
    }
   ],
   "source": [
    "bool_array = np.array([True, False, False, True, True,])\n",
    "bool_array.dtype"
   ]
  },
  {
   "cell_type": "code",
   "execution_count": 30,
   "metadata": {},
   "outputs": [
    {
     "name": "stdout",
     "output_type": "stream",
     "text": [
      "4\n",
      "[ 3  4  5  6  7  8  9 10 11]\n",
      "[11 10  9  8  7  6  5  4  3  2  1  0]\n",
      "[ 2  4  6  8 10]\n"
     ]
    }
   ],
   "source": [
    "#indexing \n",
    "a = np.arange(12)\n",
    "print(a[4])\n",
    "print(a[3:])\n"
   ]
  },
  {
   "cell_type": "code",
   "execution_count": 37,
   "metadata": {},
   "outputs": [
    {
     "name": "stdout",
     "output_type": "stream",
     "text": [
      "[[0.27342219 0.9776792  0.81353116]\n",
      " [0.1623926  0.0496201  0.14764679]]\n",
      "\n",
      "0.14764679003892633\n",
      "[[ 0.27342219  0.9776792   0.81353116]\n",
      " [ 0.1623926   0.0496201  20.3564367 ]]\n"
     ]
    }
   ],
   "source": [
    "#slicing\n",
    "a = np.random.rand(2,3)\n",
    "print(a)\n",
    "print()\n",
    "print(a[1,2])\n",
    "a[1,2] = 20.3564367\n",
    "print(a)"
   ]
  },
  {
   "cell_type": "code",
   "execution_count": 39,
   "metadata": {},
   "outputs": [
    {
     "name": "stdout",
     "output_type": "stream",
     "text": [
      "[0 1 2 3 4 5 6 7 8 9]\n",
      "[9 8 7 6 5 4 3 2 1 0]\n",
      "[2 4 6 8]\n"
     ]
    }
   ],
   "source": [
    "a = np.arange(10)\n",
    "print(a)\n",
    "print(a[::-1])\n",
    "print(a[2:11:2])\n"
   ]
  },
  {
   "cell_type": "code",
   "execution_count": 42,
   "metadata": {},
   "outputs": [
    {
     "name": "stdout",
     "output_type": "stream",
     "text": [
      "[ 0  1  2  3  4  5  6  7  8  9 10 11 12 13 14]\n",
      "[0 1 2 3 4 5 6 7 6 5 4 3 2 1 0]\n"
     ]
    }
   ],
   "source": [
    "a = np.arange(0,15)\n",
    "print(a)\n",
    "b = np.arange(0,8)\n",
    "a [7:] = b[::-1]\n",
    "print(a)"
   ]
  },
  {
   "cell_type": "code",
   "execution_count": 47,
   "metadata": {},
   "outputs": [
    {
     "name": "stdout",
     "output_type": "stream",
     "text": [
      "[ 0  1  2  3  4  5  6  7  8  9 10]\n",
      "[ 0  2  4  6  8 10]\n",
      "\n",
      "a after b modication [   0    1    2    3    4    5    6    7 9999    9   10]\n",
      "\n",
      "a after b modication [   0    2    4    6 9999   10]\n"
     ]
    }
   ],
   "source": [
    "#copy and view\n",
    "a = np.arange(11)\n",
    "print(a)\n",
    "b = a[::2] #creating view\n",
    "print(b)\n",
    "b[4] = 9999 #even though we modified b, but a is also modified\n",
    "print(\"\\na after b modication\",a)\n",
    "print(\"\\na after b modication\",b)"
   ]
  },
  {
   "cell_type": "code",
   "execution_count": 48,
   "metadata": {},
   "outputs": [
    {
     "name": "stdout",
     "output_type": "stream",
     "text": [
      "True\n"
     ]
    }
   ],
   "source": [
    "#Checking if they are sharing the same memory \n",
    "a = np.arange(11)\n",
    "b = a[::2] #creating view\n",
    "print(np.shares_memory(a,b))"
   ]
  },
  {
   "cell_type": "code",
   "execution_count": 54,
   "metadata": {},
   "outputs": [
    {
     "name": "stdout",
     "output_type": "stream",
     "text": [
      "Share memory??  False\n",
      "\n",
      "[ 0  1  2  3  4  5  6  7  8  9 10]\n",
      "\n",
      "a after b modication\n",
      " [ 0  1  2  3  4  5  6  7  8  9 10]\n",
      "\n",
      "b after b modication\n",
      " [    0     1     2     3     4 77777     6     7     8     9    10]\n"
     ]
    }
   ],
   "source": [
    "#creating copy\n",
    "a = np.arange(11)\n",
    "b = a.copy()\n",
    "print(\"Share memory?? \",np.shares_memory(a, b))\n",
    "print()\n",
    "b[5] = 77777\n",
    "print(a)\n",
    "print(\"\\na after b modication\\n\", a)\n",
    "print(\"\\nb after b modication\\n\", b)"
   ]
  },
  {
   "cell_type": "code",
   "execution_count": 63,
   "metadata": {},
   "outputs": [
    {
     "name": "stdout",
     "output_type": "stream",
     "text": [
      "[28 18  4 22 16 30 26 38]\n",
      "[ 3  0 39 17  0  0  0  0 21 23  0 37  0 17  0]\n"
     ]
    }
   ],
   "source": [
    "#fancy indexing\n",
    "#important--> it creates copies not views\n",
    "#boolian mask\n",
    "a = np.random.randint(1,40,15)\n",
    "bool_mask = (a % 2 ==0)\n",
    "extract_from_a = a [bool_mask]\n",
    "print(extract_from_a)\n",
    "a[bool_mask] = 0\n",
    "print(a)"
   ]
  },
  {
   "cell_type": "code",
   "execution_count": 71,
   "metadata": {},
   "outputs": [
    {
     "name": "stdout",
     "output_type": "stream",
     "text": [
      "[51 52 53 54 55 56 57 58 59 60 61 62 63 64]\n",
      "[53 54 53 55 53 56 53]\n",
      "After masking operation [51 52 53 54 55 -2 57 58 -2 -2 61 62 63 64]\n"
     ]
    }
   ],
   "source": [
    "#integer mask\n",
    "a = np.arange(51,65)\n",
    "print(a)\n",
    "print(a[[2,3,2,4,2,5,2]])\n",
    "a[[5,9,8]] = -2\n",
    "print(\"After masking operation\", a)"
   ]
  },
  {
   "cell_type": "code",
   "execution_count": null,
   "metadata": {},
   "outputs": [],
   "source": []
  }
 ],
 "metadata": {
  "kernelspec": {
   "display_name": "Python 3",
   "language": "python",
   "name": "python3"
  },
  "language_info": {
   "codemirror_mode": {
    "name": "ipython",
    "version": 3
   },
   "file_extension": ".py",
   "mimetype": "text/x-python",
   "name": "python",
   "nbconvert_exporter": "python",
   "pygments_lexer": "ipython3",
   "version": "3.8.3"
  }
 },
 "nbformat": 4,
 "nbformat_minor": 4
}
